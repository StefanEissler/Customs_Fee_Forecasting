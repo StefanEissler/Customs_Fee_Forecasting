{
 "cells": [
  {
   "cell_type": "code",
   "execution_count": null,
   "metadata": {},
   "outputs": [],
   "source": [
    "import pandas as pd\n",
    "\n",
    "\n"
   ]
  },
  {
   "cell_type": "markdown",
   "metadata": {},
   "source": [
    "Hier wird die Schnitstelle getestet und die gewählten Modelle an verschiedenen Kunden verglichen.\n",
    "\n",
    "Aufbau: \n",
    "\n",
    "a.\n",
    "- Aufbau der Daten für die Schnittstelle (generiert aus Daten des Beispielkunden)\n",
    "- Abrufen des Trainings von unterschiedlichen Modellen und die Prädiktion mit diesen\n",
    "- Auswertung der Ergebnisse (Fehlerterme etc...)\n",
    "\n",
    "b.\n",
    "- Prüfen mit anderen Kunden der Schnittstelle"
   ]
  },
  {
   "cell_type": "markdown",
   "metadata": {},
   "source": []
  }
 ],
 "metadata": {
  "language_info": {
   "name": "python"
  }
 },
 "nbformat": 4,
 "nbformat_minor": 2
}

{
 "cells": [
  {
   "cell_type": "code",
   "execution_count": 16,
   "metadata": {},
   "outputs": [],
   "source": [
    "import pandas as pd\n",
    "\n",
    "evaluation_matrix = pd.read_csv(\"../data/evaluation/all_customers.csv\", delimiter=\";\")"
   ]
  },
  {
   "cell_type": "code",
   "execution_count": 18,
   "metadata": {},
   "outputs": [
    {
     "data": {
      "text/plain": [
       "Mean Absolute Error                   float64\n",
       "Mean Absolute Percentage Error (%)    float64\n",
       "Mean Absolute Scaled Error            float64\n",
       "r2                                    float64\n",
       "Forecast Bias (%)                     float64\n",
       "modeltype                              object\n",
       "customer                               object\n",
       "dtype: object"
      ]
     },
     "execution_count": 18,
     "metadata": {},
     "output_type": "execute_result"
    }
   ],
   "source": [
    "evaluation_matrix.dtypes"
   ]
  },
  {
   "cell_type": "code",
   "execution_count": 20,
   "metadata": {},
   "outputs": [
    {
     "data": {
      "text/html": [
       "<div>\n",
       "<style scoped>\n",
       "    .dataframe tbody tr th:only-of-type {\n",
       "        vertical-align: middle;\n",
       "    }\n",
       "\n",
       "    .dataframe tbody tr th {\n",
       "        vertical-align: top;\n",
       "    }\n",
       "\n",
       "    .dataframe thead th {\n",
       "        text-align: right;\n",
       "    }\n",
       "</style>\n",
       "<table border=\"1\" class=\"dataframe\">\n",
       "  <thead>\n",
       "    <tr style=\"text-align: right;\">\n",
       "      <th></th>\n",
       "      <th>Mean Absolute Error</th>\n",
       "      <th>Mean Absolute Percentage Error (%)</th>\n",
       "      <th>Mean Absolute Scaled Error</th>\n",
       "      <th>r2</th>\n",
       "      <th>Forecast Bias (%)</th>\n",
       "    </tr>\n",
       "    <tr>\n",
       "      <th>modeltype</th>\n",
       "      <th></th>\n",
       "      <th></th>\n",
       "      <th></th>\n",
       "      <th></th>\n",
       "      <th></th>\n",
       "    </tr>\n",
       "  </thead>\n",
       "  <tbody>\n",
       "    <tr>\n",
       "      <th>arima</th>\n",
       "      <td>9083.623330</td>\n",
       "      <td>60.017855</td>\n",
       "      <td>7.165201</td>\n",
       "      <td>-2.558833</td>\n",
       "      <td>-18.204003</td>\n",
       "    </tr>\n",
       "    <tr>\n",
       "      <th>ets</th>\n",
       "      <td>9872.368815</td>\n",
       "      <td>58.051912</td>\n",
       "      <td>6.163571</td>\n",
       "      <td>-1.069092</td>\n",
       "      <td>-25.692394</td>\n",
       "    </tr>\n",
       "    <tr>\n",
       "      <th>forest</th>\n",
       "      <td>4145.776331</td>\n",
       "      <td>20.512944</td>\n",
       "      <td>2.666874</td>\n",
       "      <td>0.544210</td>\n",
       "      <td>1.561567</td>\n",
       "    </tr>\n",
       "    <tr>\n",
       "      <th>lstm</th>\n",
       "      <td>8258.424662</td>\n",
       "      <td>39.424831</td>\n",
       "      <td>5.160999</td>\n",
       "      <td>-0.606226</td>\n",
       "      <td>-16.470009</td>\n",
       "    </tr>\n",
       "    <tr>\n",
       "      <th>rnn</th>\n",
       "      <td>9285.669572</td>\n",
       "      <td>56.129202</td>\n",
       "      <td>5.762655</td>\n",
       "      <td>-1.289369</td>\n",
       "      <td>-24.070505</td>\n",
       "    </tr>\n",
       "    <tr>\n",
       "      <th>xgboost</th>\n",
       "      <td>4418.227019</td>\n",
       "      <td>21.232445</td>\n",
       "      <td>2.846985</td>\n",
       "      <td>0.399277</td>\n",
       "      <td>-1.016532</td>\n",
       "    </tr>\n",
       "  </tbody>\n",
       "</table>\n",
       "</div>"
      ],
      "text/plain": [
       "           Mean Absolute Error  Mean Absolute Percentage Error (%)  \\\n",
       "modeltype                                                            \n",
       "arima              9083.623330                           60.017855   \n",
       "ets                9872.368815                           58.051912   \n",
       "forest             4145.776331                           20.512944   \n",
       "lstm               8258.424662                           39.424831   \n",
       "rnn                9285.669572                           56.129202   \n",
       "xgboost            4418.227019                           21.232445   \n",
       "\n",
       "           Mean Absolute Scaled Error        r2  Forecast Bias (%)  \n",
       "modeltype                                                           \n",
       "arima                        7.165201 -2.558833         -18.204003  \n",
       "ets                          6.163571 -1.069092         -25.692394  \n",
       "forest                       2.666874  0.544210           1.561567  \n",
       "lstm                         5.160999 -0.606226         -16.470009  \n",
       "rnn                          5.762655 -1.289369         -24.070505  \n",
       "xgboost                      2.846985  0.399277          -1.016532  "
      ]
     },
     "execution_count": 20,
     "metadata": {},
     "output_type": "execute_result"
    }
   ],
   "source": [
    "evaluation_matrix_without_customer = evaluation_matrix.drop(columns=['customer'])\n",
    "avg_metrics_by_modeltype = evaluation_matrix_without_customer.groupby('modeltype').mean()\n",
    "avg_metrics_by_modeltype"
   ]
  }
 ],
 "metadata": {
  "kernelspec": {
   "display_name": ".venv",
   "language": "python",
   "name": "python3"
  },
  "language_info": {
   "codemirror_mode": {
    "name": "ipython",
    "version": 3
   },
   "file_extension": ".py",
   "mimetype": "text/x-python",
   "name": "python",
   "nbconvert_exporter": "python",
   "pygments_lexer": "ipython3",
   "version": "3.10.12"
  }
 },
 "nbformat": 4,
 "nbformat_minor": 2
}

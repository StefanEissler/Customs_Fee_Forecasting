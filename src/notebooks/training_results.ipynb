{
 "cells": [
  {
   "cell_type": "code",
   "execution_count": 3,
   "metadata": {},
   "outputs": [],
   "source": [
    "import pandas as pd\n",
    "\n",
    "data = pd.read_csv('./metrics.csv')"
   ]
  },
  {
   "cell_type": "code",
   "execution_count": 4,
   "metadata": {},
   "outputs": [
    {
     "data": {
      "text/html": [
       "<div>\n",
       "<style scoped>\n",
       "    .dataframe tbody tr th:only-of-type {\n",
       "        vertical-align: middle;\n",
       "    }\n",
       "\n",
       "    .dataframe tbody tr th {\n",
       "        vertical-align: top;\n",
       "    }\n",
       "\n",
       "    .dataframe thead th {\n",
       "        text-align: right;\n",
       "    }\n",
       "</style>\n",
       "<table border=\"1\" class=\"dataframe\">\n",
       "  <thead>\n",
       "    <tr style=\"text-align: right;\">\n",
       "      <th></th>\n",
       "      <th>MAE</th>\n",
       "      <th>MSE</th>\n",
       "      <th>meanMASE</th>\n",
       "      <th>r2</th>\n",
       "      <th>Forecast Bias</th>\n",
       "      <th>Forecast Accuracy (%)</th>\n",
       "      <th>name</th>\n",
       "    </tr>\n",
       "  </thead>\n",
       "  <tbody>\n",
       "    <tr>\n",
       "      <th>0</th>\n",
       "      <td>393.786003</td>\n",
       "      <td>2.322876e+05</td>\n",
       "      <td>8.014392</td>\n",
       "      <td>-0.203124</td>\n",
       "      <td>-167.621511</td>\n",
       "      <td>12.477553</td>\n",
       "      <td>ExponentialSmoothing</td>\n",
       "    </tr>\n",
       "    <tr>\n",
       "      <th>1</th>\n",
       "      <td>394.086372</td>\n",
       "      <td>2.352309e+05</td>\n",
       "      <td>8.020505</td>\n",
       "      <td>-0.218369</td>\n",
       "      <td>-181.005911</td>\n",
       "      <td>12.468043</td>\n",
       "      <td>ARIMA</td>\n",
       "    </tr>\n",
       "    <tr>\n",
       "      <th>2</th>\n",
       "      <td>18.206603</td>\n",
       "      <td>7.769050e+02</td>\n",
       "      <td>0.453055</td>\n",
       "      <td>0.997803</td>\n",
       "      <td>NaN</td>\n",
       "      <td>220.723522</td>\n",
       "      <td>RandomForrests</td>\n",
       "    </tr>\n",
       "    <tr>\n",
       "      <th>3</th>\n",
       "      <td>927.515389</td>\n",
       "      <td>1.290157e+06</td>\n",
       "      <td>23.080414</td>\n",
       "      <td>-2.648288</td>\n",
       "      <td>-388.693669</td>\n",
       "      <td>4.332678</td>\n",
       "      <td>XGBoost</td>\n",
       "    </tr>\n",
       "  </tbody>\n",
       "</table>\n",
       "</div>"
      ],
      "text/plain": [
       "          MAE           MSE   meanMASE        r2  Forecast Bias  \\\n",
       "0  393.786003  2.322876e+05   8.014392 -0.203124    -167.621511   \n",
       "1  394.086372  2.352309e+05   8.020505 -0.218369    -181.005911   \n",
       "2   18.206603  7.769050e+02   0.453055  0.997803            NaN   \n",
       "3  927.515389  1.290157e+06  23.080414 -2.648288    -388.693669   \n",
       "\n",
       "   Forecast Accuracy (%)                  name  \n",
       "0              12.477553  ExponentialSmoothing  \n",
       "1              12.468043                 ARIMA  \n",
       "2             220.723522        RandomForrests  \n",
       "3               4.332678               XGBoost  "
      ]
     },
     "execution_count": 4,
     "metadata": {},
     "output_type": "execute_result"
    }
   ],
   "source": [
    "data.head(n=10)"
   ]
  }
 ],
 "metadata": {
  "kernelspec": {
   "display_name": ".venv",
   "language": "python",
   "name": "python3"
  },
  "language_info": {
   "codemirror_mode": {
    "name": "ipython",
    "version": 3
   },
   "file_extension": ".py",
   "mimetype": "text/x-python",
   "name": "python",
   "nbconvert_exporter": "python",
   "pygments_lexer": "ipython3",
   "version": "3.10.12"
  }
 },
 "nbformat": 4,
 "nbformat_minor": 2
}

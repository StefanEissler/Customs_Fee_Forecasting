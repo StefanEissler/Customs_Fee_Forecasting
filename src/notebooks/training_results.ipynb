{
 "cells": [
  {
   "cell_type": "code",
   "execution_count": 11,
   "metadata": {},
   "outputs": [],
   "source": [
    "import pandas as pd\n",
    "\n",
    "data = pd.read_csv('./metrics.csv')"
   ]
  },
  {
   "cell_type": "code",
   "execution_count": 12,
   "metadata": {},
   "outputs": [
    {
     "data": {
      "text/html": [
       "<div>\n",
       "<style scoped>\n",
       "    .dataframe tbody tr th:only-of-type {\n",
       "        vertical-align: middle;\n",
       "    }\n",
       "\n",
       "    .dataframe tbody tr th {\n",
       "        vertical-align: top;\n",
       "    }\n",
       "\n",
       "    .dataframe thead th {\n",
       "        text-align: right;\n",
       "    }\n",
       "</style>\n",
       "<table border=\"1\" class=\"dataframe\">\n",
       "  <thead>\n",
       "    <tr style=\"text-align: right;\">\n",
       "      <th></th>\n",
       "      <th>MAE</th>\n",
       "      <th>MSE</th>\n",
       "      <th>meanMASE</th>\n",
       "      <th>r2</th>\n",
       "      <th>Forecast Bias</th>\n",
       "      <th>name</th>\n",
       "    </tr>\n",
       "  </thead>\n",
       "  <tbody>\n",
       "    <tr>\n",
       "      <th>0</th>\n",
       "      <td>924.214931</td>\n",
       "      <td>1.284909e+06</td>\n",
       "      <td>inf</td>\n",
       "      <td>-2.633449</td>\n",
       "      <td>-389.702405</td>\n",
       "      <td>XGBoost</td>\n",
       "    </tr>\n",
       "    <tr>\n",
       "      <th>1</th>\n",
       "      <td>394.086372</td>\n",
       "      <td>2.352309e+05</td>\n",
       "      <td>inf</td>\n",
       "      <td>-0.218369</td>\n",
       "      <td>-181.005911</td>\n",
       "      <td>ARIMA</td>\n",
       "    </tr>\n",
       "    <tr>\n",
       "      <th>2</th>\n",
       "      <td>393.786003</td>\n",
       "      <td>2.322876e+05</td>\n",
       "      <td>inf</td>\n",
       "      <td>-0.203124</td>\n",
       "      <td>-167.621511</td>\n",
       "      <td>ExponentialSmoothing</td>\n",
       "    </tr>\n",
       "    <tr>\n",
       "      <th>3</th>\n",
       "      <td>889.049224</td>\n",
       "      <td>1.197367e+06</td>\n",
       "      <td>inf</td>\n",
       "      <td>-2.363823</td>\n",
       "      <td>-401.229263</td>\n",
       "      <td>RandomForrests</td>\n",
       "    </tr>\n",
       "  </tbody>\n",
       "</table>\n",
       "</div>"
      ],
      "text/plain": [
       "          MAE           MSE  meanMASE        r2  Forecast Bias  \\\n",
       "0  924.214931  1.284909e+06       inf -2.633449    -389.702405   \n",
       "1  394.086372  2.352309e+05       inf -0.218369    -181.005911   \n",
       "2  393.786003  2.322876e+05       inf -0.203124    -167.621511   \n",
       "3  889.049224  1.197367e+06       inf -2.363823    -401.229263   \n",
       "\n",
       "                   name  \n",
       "0               XGBoost  \n",
       "1                 ARIMA  \n",
       "2  ExponentialSmoothing  \n",
       "3        RandomForrests  "
      ]
     },
     "execution_count": 12,
     "metadata": {},
     "output_type": "execute_result"
    }
   ],
   "source": [
    "data.head()"
   ]
  }
 ],
 "metadata": {
  "kernelspec": {
   "display_name": ".venv",
   "language": "python",
   "name": "python3"
  },
  "language_info": {
   "codemirror_mode": {
    "name": "ipython",
    "version": 3
   },
   "file_extension": ".py",
   "mimetype": "text/x-python",
   "name": "python",
   "nbconvert_exporter": "python",
   "pygments_lexer": "ipython3",
   "version": "3.10.12"
  }
 },
 "nbformat": 4,
 "nbformat_minor": 2
}
